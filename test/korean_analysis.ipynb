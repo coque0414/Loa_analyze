{
 "cells": [
  {
   "cell_type": "code",
   "execution_count": 9,
   "id": "fb640774",
   "metadata": {},
   "outputs": [
    {
     "name": "stdout",
     "output_type": "stream",
     "text": [
      "Defaulting to user installation because normal site-packages is not writeable\n",
      "Collecting git+https://github.com/haven-jeon/PyKoSpacing.git\n",
      "  Cloning https://github.com/haven-jeon/PyKoSpacing.git to c:\\users\\lee\\appdata\\local\\temp\\pip-req-build-dx9e4tyj\n",
      "  Resolved https://github.com/haven-jeon/PyKoSpacing.git to commit b32a889cbd10b006d2f4aba118f0cd5b677e2979\n",
      "  Preparing metadata (setup.py): started\n",
      "  Preparing metadata (setup.py): finished with status 'done'\n",
      "Collecting tensorflow>=2.16.2 (from pykospacing==0.5)\n",
      "  Using cached tensorflow-2.19.0-cp312-cp312-win_amd64.whl.metadata (4.1 kB)\n",
      "Requirement already satisfied: h5py>=3.10.0 in c:\\programdata\\anaconda3\\lib\\site-packages (from pykospacing==0.5) (3.11.0)\n",
      "Collecting argparse>=1.1.0 (from pykospacing==0.5)\n",
      "  Using cached argparse-1.4.0-py2.py3-none-any.whl.metadata (2.8 kB)\n",
      "Requirement already satisfied: numpy>=1.17.3 in c:\\programdata\\anaconda3\\lib\\site-packages (from h5py>=3.10.0->pykospacing==0.5) (1.26.4)\n",
      "Collecting absl-py>=1.0.0 (from tensorflow>=2.16.2->pykospacing==0.5)\n",
      "  Using cached absl_py-2.2.2-py3-none-any.whl.metadata (2.6 kB)\n",
      "Collecting astunparse>=1.6.0 (from tensorflow>=2.16.2->pykospacing==0.5)\n",
      "  Using cached astunparse-1.6.3-py2.py3-none-any.whl.metadata (4.4 kB)\n",
      "Collecting flatbuffers>=24.3.25 (from tensorflow>=2.16.2->pykospacing==0.5)\n",
      "  Using cached flatbuffers-25.2.10-py2.py3-none-any.whl.metadata (875 bytes)\n",
      "Collecting gast!=0.5.0,!=0.5.1,!=0.5.2,>=0.2.1 (from tensorflow>=2.16.2->pykospacing==0.5)\n",
      "  Using cached gast-0.6.0-py3-none-any.whl.metadata (1.3 kB)\n",
      "Collecting google-pasta>=0.1.1 (from tensorflow>=2.16.2->pykospacing==0.5)\n",
      "  Using cached google_pasta-0.2.0-py3-none-any.whl.metadata (814 bytes)\n",
      "Collecting libclang>=13.0.0 (from tensorflow>=2.16.2->pykospacing==0.5)\n",
      "  Using cached libclang-18.1.1-py2.py3-none-win_amd64.whl.metadata (5.3 kB)\n",
      "Collecting opt-einsum>=2.3.2 (from tensorflow>=2.16.2->pykospacing==0.5)\n",
      "  Using cached opt_einsum-3.4.0-py3-none-any.whl.metadata (6.3 kB)\n",
      "Requirement already satisfied: packaging in c:\\programdata\\anaconda3\\lib\\site-packages (from tensorflow>=2.16.2->pykospacing==0.5) (24.1)\n",
      "Requirement already satisfied: protobuf!=4.21.0,!=4.21.1,!=4.21.2,!=4.21.3,!=4.21.4,!=4.21.5,<6.0.0dev,>=3.20.3 in c:\\programdata\\anaconda3\\lib\\site-packages (from tensorflow>=2.16.2->pykospacing==0.5) (4.25.3)\n",
      "Requirement already satisfied: requests<3,>=2.21.0 in c:\\programdata\\anaconda3\\lib\\site-packages (from tensorflow>=2.16.2->pykospacing==0.5) (2.32.3)\n",
      "Requirement already satisfied: setuptools in c:\\programdata\\anaconda3\\lib\\site-packages (from tensorflow>=2.16.2->pykospacing==0.5) (75.1.0)\n",
      "Requirement already satisfied: six>=1.12.0 in c:\\programdata\\anaconda3\\lib\\site-packages (from tensorflow>=2.16.2->pykospacing==0.5) (1.16.0)\n",
      "Collecting termcolor>=1.1.0 (from tensorflow>=2.16.2->pykospacing==0.5)\n",
      "  Using cached termcolor-3.1.0-py3-none-any.whl.metadata (6.4 kB)\n",
      "Requirement already satisfied: typing-extensions>=3.6.6 in c:\\programdata\\anaconda3\\lib\\site-packages (from tensorflow>=2.16.2->pykospacing==0.5) (4.11.0)\n",
      "Requirement already satisfied: wrapt>=1.11.0 in c:\\programdata\\anaconda3\\lib\\site-packages (from tensorflow>=2.16.2->pykospacing==0.5) (1.14.1)\n",
      "Collecting grpcio<2.0,>=1.24.3 (from tensorflow>=2.16.2->pykospacing==0.5)\n",
      "  Using cached grpcio-1.71.0-cp312-cp312-win_amd64.whl.metadata (4.0 kB)\n",
      "Collecting tensorboard~=2.19.0 (from tensorflow>=2.16.2->pykospacing==0.5)\n",
      "  Using cached tensorboard-2.19.0-py3-none-any.whl.metadata (1.8 kB)\n",
      "Collecting keras>=3.5.0 (from tensorflow>=2.16.2->pykospacing==0.5)\n",
      "  Using cached keras-3.10.0-py3-none-any.whl.metadata (6.0 kB)\n",
      "Collecting ml-dtypes<1.0.0,>=0.5.1 (from tensorflow>=2.16.2->pykospacing==0.5)\n",
      "  Using cached ml_dtypes-0.5.1-cp312-cp312-win_amd64.whl.metadata (22 kB)\n",
      "Requirement already satisfied: wheel<1.0,>=0.23.0 in c:\\programdata\\anaconda3\\lib\\site-packages (from astunparse>=1.6.0->tensorflow>=2.16.2->pykospacing==0.5) (0.44.0)\n",
      "Requirement already satisfied: rich in c:\\programdata\\anaconda3\\lib\\site-packages (from keras>=3.5.0->tensorflow>=2.16.2->pykospacing==0.5) (13.7.1)\n",
      "Collecting namex (from keras>=3.5.0->tensorflow>=2.16.2->pykospacing==0.5)\n",
      "  Using cached namex-0.0.9-py3-none-any.whl.metadata (322 bytes)\n",
      "Collecting optree (from keras>=3.5.0->tensorflow>=2.16.2->pykospacing==0.5)\n",
      "  Using cached optree-0.15.0-cp312-cp312-win_amd64.whl.metadata (49 kB)\n",
      "Requirement already satisfied: charset-normalizer<4,>=2 in c:\\programdata\\anaconda3\\lib\\site-packages (from requests<3,>=2.21.0->tensorflow>=2.16.2->pykospacing==0.5) (3.3.2)\n",
      "Requirement already satisfied: idna<4,>=2.5 in c:\\programdata\\anaconda3\\lib\\site-packages (from requests<3,>=2.21.0->tensorflow>=2.16.2->pykospacing==0.5) (3.7)\n",
      "Requirement already satisfied: urllib3<3,>=1.21.1 in c:\\programdata\\anaconda3\\lib\\site-packages (from requests<3,>=2.21.0->tensorflow>=2.16.2->pykospacing==0.5) (2.2.3)\n",
      "Requirement already satisfied: certifi>=2017.4.17 in c:\\programdata\\anaconda3\\lib\\site-packages (from requests<3,>=2.21.0->tensorflow>=2.16.2->pykospacing==0.5) (2025.1.31)\n",
      "Requirement already satisfied: markdown>=2.6.8 in c:\\programdata\\anaconda3\\lib\\site-packages (from tensorboard~=2.19.0->tensorflow>=2.16.2->pykospacing==0.5) (3.4.1)\n",
      "Collecting tensorboard-data-server<0.8.0,>=0.7.0 (from tensorboard~=2.19.0->tensorflow>=2.16.2->pykospacing==0.5)\n",
      "  Using cached tensorboard_data_server-0.7.2-py3-none-any.whl.metadata (1.1 kB)\n",
      "Requirement already satisfied: werkzeug>=1.0.1 in c:\\programdata\\anaconda3\\lib\\site-packages (from tensorboard~=2.19.0->tensorflow>=2.16.2->pykospacing==0.5) (3.0.3)\n",
      "Requirement already satisfied: MarkupSafe>=2.1.1 in c:\\programdata\\anaconda3\\lib\\site-packages (from werkzeug>=1.0.1->tensorboard~=2.19.0->tensorflow>=2.16.2->pykospacing==0.5) (2.1.3)\n",
      "Requirement already satisfied: markdown-it-py>=2.2.0 in c:\\programdata\\anaconda3\\lib\\site-packages (from rich->keras>=3.5.0->tensorflow>=2.16.2->pykospacing==0.5) (2.2.0)\n",
      "Requirement already satisfied: pygments<3.0.0,>=2.13.0 in c:\\programdata\\anaconda3\\lib\\site-packages (from rich->keras>=3.5.0->tensorflow>=2.16.2->pykospacing==0.5) (2.15.1)\n",
      "Requirement already satisfied: mdurl~=0.1 in c:\\programdata\\anaconda3\\lib\\site-packages (from markdown-it-py>=2.2.0->rich->keras>=3.5.0->tensorflow>=2.16.2->pykospacing==0.5) (0.1.0)\n",
      "Using cached argparse-1.4.0-py2.py3-none-any.whl (23 kB)\n",
      "Using cached tensorflow-2.19.0-cp312-cp312-win_amd64.whl (376.0 MB)\n",
      "Using cached absl_py-2.2.2-py3-none-any.whl (135 kB)\n",
      "Using cached astunparse-1.6.3-py2.py3-none-any.whl (12 kB)\n",
      "Using cached flatbuffers-25.2.10-py2.py3-none-any.whl (30 kB)\n",
      "Using cached gast-0.6.0-py3-none-any.whl (21 kB)\n",
      "Using cached google_pasta-0.2.0-py3-none-any.whl (57 kB)\n",
      "Using cached grpcio-1.71.0-cp312-cp312-win_amd64.whl (4.3 MB)\n",
      "Using cached keras-3.10.0-py3-none-any.whl (1.4 MB)\n",
      "Using cached libclang-18.1.1-py2.py3-none-win_amd64.whl (26.4 MB)\n",
      "Using cached ml_dtypes-0.5.1-cp312-cp312-win_amd64.whl (210 kB)\n",
      "Using cached opt_einsum-3.4.0-py3-none-any.whl (71 kB)\n",
      "Using cached tensorboard-2.19.0-py3-none-any.whl (5.5 MB)\n",
      "Using cached termcolor-3.1.0-py3-none-any.whl (7.7 kB)\n",
      "Using cached tensorboard_data_server-0.7.2-py3-none-any.whl (2.4 kB)\n",
      "Using cached namex-0.0.9-py3-none-any.whl (5.8 kB)\n",
      "Using cached optree-0.15.0-cp312-cp312-win_amd64.whl (307 kB)\n",
      "Building wheels for collected packages: pykospacing\n",
      "  Building wheel for pykospacing (setup.py): started\n",
      "  Building wheel for pykospacing (setup.py): finished with status 'done'\n",
      "  Created wheel for pykospacing: filename=pykospacing-0.5-py3-none-any.whl size=2287180 sha256=fd060c77502e7054dd08b4c39c20a72332513dc8bcc8880c1464afb887b35c02\n",
      "  Stored in directory: C:\\Users\\lee\\AppData\\Local\\Temp\\pip-ephem-wheel-cache-lur8otaa\\wheels\\76\\1f\\66\\ecf5b2f136847d084f6e9af3c732f2899ee9f9b229a45aa8b8\n",
      "Successfully built pykospacing\n",
      "Installing collected packages: namex, libclang, flatbuffers, argparse, termcolor, tensorboard-data-server, optree, opt-einsum, ml-dtypes, grpcio, google-pasta, gast, astunparse, absl-py, tensorboard, keras, tensorflow, pykospacing\n",
      "Successfully installed absl-py-2.2.2 argparse-1.4.0 astunparse-1.6.3 flatbuffers-25.2.10 gast-0.6.0 google-pasta-0.2.0 grpcio-1.71.0 keras-3.10.0 libclang-18.1.1 ml-dtypes-0.5.1 namex-0.0.9 opt-einsum-3.4.0 optree-0.15.0 pykospacing-0.5 tensorboard-2.19.0 tensorboard-data-server-0.7.2 tensorflow-2.19.0 termcolor-3.1.0\n"
     ]
    },
    {
     "name": "stderr",
     "output_type": "stream",
     "text": [
      "  Running command git clone --filter=blob:none --quiet https://github.com/haven-jeon/PyKoSpacing.git 'C:\\Users\\lee\\AppData\\Local\\Temp\\pip-req-build-dx9e4tyj'\n",
      "  WARNING: The script tensorboard.exe is installed in 'C:\\Users\\lee\\AppData\\Roaming\\Python\\Python312\\Scripts' which is not on PATH.\n",
      "  Consider adding this directory to PATH or, if you prefer to suppress this warning, use --no-warn-script-location.\n",
      "  WARNING: The scripts import_pb_to_tensorboard.exe, saved_model_cli.exe, tensorboard.exe, tf_upgrade_v2.exe, tflite_convert.exe and toco.exe are installed in 'C:\\Users\\lee\\AppData\\Roaming\\Python\\Python312\\Scripts' which is not on PATH.\n",
      "  Consider adding this directory to PATH or, if you prefer to suppress this warning, use --no-warn-script-location.\n",
      "  WARNING: The script pykos.exe is installed in 'C:\\Users\\lee\\AppData\\Roaming\\Python\\Python312\\Scripts' which is not on PATH.\n",
      "  Consider adding this directory to PATH or, if you prefer to suppress this warning, use --no-warn-script-location.\n"
     ]
    }
   ],
   "source": [
    "!pip install git+https://github.com/haven-jeon/PyKoSpacing.git"
   ]
  },
  {
   "cell_type": "code",
   "execution_count": 29,
   "id": "4d28883f",
   "metadata": {},
   "outputs": [
    {
     "name": "stdout",
     "output_type": "stream",
     "text": [
      "Defaulting to user installation because normal site-packages is not writeable\n",
      "Collecting soynlp\n",
      "  Downloading soynlp-0.0.493-py3-none-any.whl.metadata (24 kB)\n",
      "Requirement already satisfied: numpy>=1.12.1 in c:\\programdata\\anaconda3\\lib\\site-packages (from soynlp) (1.26.4)\n",
      "Requirement already satisfied: psutil>=5.0.1 in c:\\programdata\\anaconda3\\lib\\site-packages (from soynlp) (5.9.0)\n",
      "Requirement already satisfied: scipy>=1.1.0 in c:\\programdata\\anaconda3\\lib\\site-packages (from soynlp) (1.13.1)\n",
      "Requirement already satisfied: scikit-learn>=0.20.0 in c:\\programdata\\anaconda3\\lib\\site-packages (from soynlp) (1.5.1)\n",
      "Requirement already satisfied: joblib>=1.2.0 in c:\\programdata\\anaconda3\\lib\\site-packages (from scikit-learn>=0.20.0->soynlp) (1.4.2)\n",
      "Requirement already satisfied: threadpoolctl>=3.1.0 in c:\\programdata\\anaconda3\\lib\\site-packages (from scikit-learn>=0.20.0->soynlp) (3.5.0)\n",
      "Downloading soynlp-0.0.493-py3-none-any.whl (416 kB)\n",
      "Installing collected packages: soynlp\n",
      "Successfully installed soynlp-0.0.493\n"
     ]
    }
   ],
   "source": [
    "!pip install soynlp"
   ]
  },
  {
   "cell_type": "code",
   "execution_count": 24,
   "id": "fc842afd",
   "metadata": {},
   "outputs": [
    {
     "name": "stdout",
     "output_type": "stream",
     "text": [
      "가성비안좋은라인이1.주력기아닌딜지분20%아래인스킬10겁2.방어구2425강3.유각대부분유저는1-2번은할일거의없고남은게유각임근데지금노말하드에데카추가넣고난이도대폭너프했음그리고더퍼스트는오픈런에한해서만선발대전용임계승아닌거확정이고카멘처럼초월비스무리나오면이거하나만으로딜증이압도적으로올라감노말하드즐기다가종막신규스펙초월하고종막때풀린매물로스펙업하고나중에더퍼스트가도안늦음카멘처럼초월+상재+무기초월마냥오랫동안열어줌그래야많은유저가즐기니까진지하게오픈런욕심없고골드가썩어넘치는게아닌이상유각은지금읽는게손해임\n"
     ]
    }
   ],
   "source": [
    "text = \"가성비 안좋은 라인이 1. 주력기 아닌 딜지분20%아래인 스킬 10겁 2. 방어구 24 25강 3. 유각 대부분유저는  1-2번은 할일 거의 없고 남은게 유각임 근데 지금 노말하드에 데카추가넣고 난이도 대폭 너프했음  그리고 더퍼스트는 오픈런에 한해서만 선발대전용임 계승아닌거 확정이고 카멘처럼 초월비스무리 나오면 이거하나만으로 딜증이 압도적으로 올라감  노말하드즐기다가 종막 신규스펙 초월하고 종막때 풀린 매물로 스펙업 하고 나중에 더퍼스트가도 안늦음 카멘처럼 초월+상재+무기초월마냥 오랫동안 열어줌 그래야 많은 유저가 즐기니까  진지하게 오픈런욕심없고 골드가 썩어넘치는게 아닌이상 유각은 지금 읽는게 손해임\"\n",
    "text2 = text.replace(\" \", \"\")\n",
    "print(text2)"
   ]
  },
  {
   "cell_type": "code",
   "execution_count": 27,
   "id": "3d67228b",
   "metadata": {},
   "outputs": [
    {
     "name": "stdout",
     "output_type": "stream",
     "text": [
      "가성비안좋은라인이1.주력기아닌딜지분20%아래인스킬10겁2.방어구2425강3.유각대부분유저는1-2번은할일거의없고남은게유각임근데지금노말하드에데카추가넣고난이도대폭너프했음그리고더퍼스트는오픈런에한해서만선발대전용임계승아닌거확정이고카멘처럼초월비스무리나오면이거하나만으로딜증이압도적으로올라감노말하드즐기다가종막신규스펙초월하고종막때풀린매물로스펙업하고나중에더퍼스트가도안늦음카멘처럼초월+상재+무기초월마냥오랫동안열어줌그래야많은유저가즐기니까진지하게오픈런욕심없고골드가썩어넘치는게아닌이상유각은지금읽는게손해임\n",
      "가성비안좋은라인이1 주력기아닌딜지분20 아래인스킬10겁2 방어구2425강3 유각대부분유저는1 2번은할일거의없고남은게유각임근데지금노말하드에데카추가넣고난이도대폭너프했음그리고더퍼스트는오픈런에한해서만선발대전용임계승아닌거확정이고카멘처럼초월비스무리나오면이거하나만으로딜증이압도적으로올라감노말하드즐기다가종막신규스펙초월하고종막때풀린매물로스펙업하고나중에더퍼스트가도안늦음카멘처럼초월 상재 무기초월마냥오랫동안열어줌그래야많은유저가즐기니까진지하게오픈런욕심없고골드가썩어넘치는게아닌이상유각은지금읽는게손해임\n",
      "가성비안좋은라인이1주력기아닌딜지분20아래인스킬10겁2방어구2425강3유각대부분유저는12번은할일거의없고남은게유각임근데지금노말하드에데카추가넣고난이도대폭너프했음그리고더퍼스트는오픈런에한해서만선발대전용임계승아닌거확정이고카멘처럼초월비스무리나오면이거하나만으로딜증이압도적으로올라감노말하드즐기다가종막신규스펙초월하고종막때풀린매물로스펙업하고나중에더퍼스트가도안늦음카멘처럼초월상재무기초월마냥오랫동안열어줌그래야많은유저가즐기니까진지하게오픈런욕심없고골드가썩어넘치는게아닌이상유각은지금읽는게손해임\n"
     ]
    },
    {
     "name": "stderr",
     "output_type": "stream",
     "text": [
      "<>:2: SyntaxWarning: invalid escape sequence '\\s'\n",
      "<>:2: SyntaxWarning: invalid escape sequence '\\s'\n",
      "C:\\Users\\lee\\AppData\\Local\\Temp\\ipykernel_24404\\4256150449.py:2: SyntaxWarning: invalid escape sequence '\\s'\n",
      "  cleaned_text = re.sub('[^가-힣ㄱ-ㅎㅏ-ㅣ0-9\\s]', ' ', text2)\n"
     ]
    }
   ],
   "source": [
    "import re\n",
    "cleaned_text = re.sub('[^가-힣ㄱ-ㅎㅏ-ㅣ0-9\\s]', ' ', text2)\n",
    "print(text2)\n",
    "print(cleaned_text)\n",
    "text3 = cleaned_text.replace(\" \", \"\")\n",
    "print(text3)\n",
    "#이건 한글과 숫자만 남기고 다 지움"
   ]
  },
  {
   "cell_type": "code",
   "execution_count": null,
   "id": "01e53718",
   "metadata": {},
   "outputs": [
    {
     "ename": "ModuleNotFoundError",
     "evalue": "No module named 'soynlp'",
     "output_type": "error",
     "traceback": [
      "\u001b[1;31m---------------------------------------------------------------------------\u001b[0m",
      "\u001b[1;31mModuleNotFoundError\u001b[0m                       Traceback (most recent call last)",
      "Cell \u001b[1;32mIn[32], line 2\u001b[0m\n\u001b[0;32m      1\u001b[0m \u001b[38;5;66;03m# from soynlp.normalizer import repeat_normalize\u001b[39;00m\n\u001b[1;32m----> 2\u001b[0m \u001b[38;5;28;01mfrom\u001b[39;00m \u001b[38;5;21;01msoynlp\u001b[39;00m\u001b[38;5;21;01m.\u001b[39;00m\u001b[38;5;21;01mnormalizer\u001b[39;00m \u001b[38;5;28;01mimport\u001b[39;00m \u001b[38;5;241m*\u001b[39m\n\u001b[0;32m      3\u001b[0m \u001b[38;5;28mprint\u001b[39m(repeat_normalize(\u001b[38;5;124m'\u001b[39m\u001b[38;5;124m와하하하하하하하하핫\u001b[39m\u001b[38;5;124m'\u001b[39m, num_repeats\u001b[38;5;241m=\u001b[39m\u001b[38;5;241m2\u001b[39m))\n",
      "\u001b[1;31mModuleNotFoundError\u001b[0m: No module named 'soynlp'"
     ]
    }
   ],
   "source": [
    "# from soynlp.normalizer import repeat_normalize\n",
    "from soynlp.normalizer import *\n",
    "print(repeat_normalize('와하하하하하하하하핫', num_repeats=2))\n",
    "#이것도 여기선안된다... 거지같은 주피터노트북"
   ]
  },
  {
   "cell_type": "code",
   "execution_count": 31,
   "id": "808ea740",
   "metadata": {},
   "outputs": [
    {
     "ename": "ModuleNotFoundError",
     "evalue": "No module named 'pykospacing'",
     "output_type": "error",
     "traceback": [
      "\u001b[1;31m---------------------------------------------------------------------------\u001b[0m",
      "\u001b[1;31mModuleNotFoundError\u001b[0m                       Traceback (most recent call last)",
      "Cell \u001b[1;32mIn[31], line 1\u001b[0m\n\u001b[1;32m----> 1\u001b[0m \u001b[38;5;28;01mfrom\u001b[39;00m \u001b[38;5;21;01mpykospacing\u001b[39;00m \u001b[38;5;28;01mimport\u001b[39;00m Spacing\n\u001b[0;32m      2\u001b[0m spacing \u001b[38;5;241m=\u001b[39m Spacing()\n\u001b[0;32m      3\u001b[0m text \u001b[38;5;241m=\u001b[39m \u001b[38;5;124m\"\u001b[39m\u001b[38;5;124m가성비 안좋은 라인이 1. 주력기 아닌 딜지분20\u001b[39m\u001b[38;5;124m%\u001b[39m\u001b[38;5;124m아래인 스킬 10겁 2. 방어구 24 25강 3. 유각 대부분유저는  1-2번은 할일 거의 없고 남은게 유각임 근데 지금 노말하드에 데카추가넣고 난이도 대폭 너프했음  그리고 더퍼스트는 오픈런에 한해서만 선발대전용임 계승아닌거 확정이고 카멘처럼 초월비스무리 나오면 이거하나만으로 딜증이 압도적으로 올라감  노말하드즐기다가 종막 신규스펙 초월하고 종막때 풀린 매물로 스펙업 하고 나중에 더퍼스트가도 안늦음 카멘처럼 초월+상재+무기초월마냥 오랫동안 열어줌 그래야 많은 유저가 즐기니까  진지하게 오픈런욕심없고 골드가 썩어넘치는게 아닌이상 유각은 지금 읽는게 손해임\u001b[39m\u001b[38;5;124m\"\u001b[39m\n",
      "\u001b[1;31mModuleNotFoundError\u001b[0m: No module named 'pykospacing'"
     ]
    }
   ],
   "source": [
    "from pykospacing import Spacing\n",
    "spacing = Spacing()\n",
    "text = \"가성비 안좋은 라인이 1. 주력기 아닌 딜지분20%아래인 스킬 10겁 2. 방어구 24 25강 3. 유각 대부분유저는  1-2번은 할일 거의 없고 남은게 유각임 근데 지금 노말하드에 데카추가넣고 난이도 대폭 너프했음  그리고 더퍼스트는 오픈런에 한해서만 선발대전용임 계승아닌거 확정이고 카멘처럼 초월비스무리 나오면 이거하나만으로 딜증이 압도적으로 올라감  노말하드즐기다가 종막 신규스펙 초월하고 종막때 풀린 매물로 스펙업 하고 나중에 더퍼스트가도 안늦음 카멘처럼 초월+상재+무기초월마냥 오랫동안 열어줌 그래야 많은 유저가 즐기니까  진지하게 오픈런욕심없고 골드가 썩어넘치는게 아닌이상 유각은 지금 읽는게 손해임\"\n",
    "corrected = spacing(text)\n",
    "print(corrected)\n",
    "\n",
    "#되는건 맞는데 ipynb에선 안됌 뛰발"
   ]
  },
  {
   "cell_type": "code",
   "execution_count": null,
   "id": "444ff217",
   "metadata": {},
   "outputs": [
    {
     "name": "stdout",
     "output_type": "stream",
     "text": [
      "가성비안좋은라인이1.주력기아닌딜지분20%아래인스킬10겁2.방어구2425강3.유각대부분유저는1-2번은할일거의없고남은게유각임근데지금노말하드에데카추가넣고난이도대폭너프했음그리고더퍼스트는오픈런에한해서만선발대전용임계승아닌거확정이고카멘처럼초월비스무리나오면이거하나만으로딜증이압도적으로올라감노말하드즐기다가종막신규스펙초월하고종막때풀린매물로스펙업하고나중에더퍼스트가도안늦음카멘처럼초월+상재+무기초월마냥오랫동안열어줌그래야많은유저가즐기니까진지하게오픈런욕심없고골드가썩어넘치는게아닌이상유각은지금읽는게손해임 \n",
      "\n",
      "가성비안좋은라인이1 주력기아닌딜지분20 아래인스킬10겁2 방어구2425강3 유각대부분유저는1 2번은할일거의없고남은게유각임근데지금노말하드에데카추가넣고난이도대폭너프했음그리고더퍼스트는오픈런에한해서만선발대전용임계승아닌거확정이고카멘처럼초월비스무리나오면이거하나만으로딜증이압도적으로올라감노말하드즐기다가종막신규스펙초월하고종막때풀린매물로스펙업하고나중에더퍼스트가도안늦음카멘처럼초월 상재 무기초월마냥오랫동안열어줌그래야많은유저가즐기니까진지하게오픈런욕심없고골드가썩어넘치는게아닌이상유각은지금읽는게손해임\n"
     ]
    },
    {
     "name": "stderr",
     "output_type": "stream",
     "text": [
      "<>:2: SyntaxWarning: invalid escape sequence '\\s'\n",
      "<>:2: SyntaxWarning: invalid escape sequence '\\s'\n",
      "C:\\Users\\lee\\AppData\\Local\\Temp\\ipykernel_24404\\541963981.py:2: SyntaxWarning: invalid escape sequence '\\s'\n",
      "  cleaned_text = re.sub('[^가-힣ㄱ-ㅎㅏ-ㅣ0-9\\s]', ' ', text2)\n"
     ]
    }
   ],
   "source": []
  },
  {
   "cell_type": "markdown",
   "id": "1b52c944",
   "metadata": {},
   "source": []
  }
 ],
 "metadata": {
  "kernelspec": {
   "display_name": "base",
   "language": "python",
   "name": "python3"
  },
  "language_info": {
   "codemirror_mode": {
    "name": "ipython",
    "version": 3
   },
   "file_extension": ".py",
   "mimetype": "text/x-python",
   "name": "python",
   "nbconvert_exporter": "python",
   "pygments_lexer": "ipython3",
   "version": "3.12.7"
  }
 },
 "nbformat": 4,
 "nbformat_minor": 5
}
